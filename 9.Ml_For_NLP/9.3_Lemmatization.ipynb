{
 "cells": [
  {
   "cell_type": "markdown",
   "id": "fdfc5923-22fa-4cb4-b9ba-72531473b3d0",
   "metadata": {},
   "source": [
    "### Wordnet Lemmatizer\n",
    "Lemmatization technique is like stemming. The output we will get after lemmatization is called ‘lemma’, which is a root word rather than root stem, the output of stemming. After lemmatization, we will be getting a valid word that means the same thing.\n",
    "\n",
    "NLTK provides WordNetLemmatizer class which is a thin wrapper around the wordnet corpus. This class uses morphy() function to the <u>**WordNet CorpusReader**</u> class to find a lemma. Let us understand it with an example −\n",
    "\n",
    "- Uses in application like Q&A , Chatbots, text Summarization"
   ]
  },
  {
   "cell_type": "code",
   "execution_count": 5,
   "id": "d76efe86-686b-4181-bed8-8c2f4ec5489c",
   "metadata": {},
   "outputs": [],
   "source": [
    "from nltk.stem import WordNetLemmatizer"
   ]
  },
  {
   "cell_type": "code",
   "execution_count": 7,
   "id": "4a709458-aa4d-4922-8a8f-3d5fe932cbb5",
   "metadata": {},
   "outputs": [],
   "source": [
    "lemmatizer=WordNetLemmatizer()"
   ]
  },
  {
   "cell_type": "code",
   "execution_count": 9,
   "id": "15b54c6c-8de7-457d-a885-2c8059d232de",
   "metadata": {},
   "outputs": [
    {
     "name": "stdout",
     "output_type": "stream",
     "text": [
      "going\n",
      "go\n",
      "going\n",
      "going\n"
     ]
    }
   ],
   "source": [
    "'''\n",
    "POS- Noun-n\n",
    "verb-v\n",
    "adjective-a\n",
    "adverb-r\n",
    "'''\n",
    "print(lemmatizer.lemmatize(\"going\",pos='n'))\n",
    "print(lemmatizer.lemmatize(\"going\",pos='v'))\n",
    "print(lemmatizer.lemmatize(\"going\",pos='a'))\n",
    "print(lemmatizer.lemmatize(\"going\",pos='r'))"
   ]
  },
  {
   "cell_type": "code",
   "execution_count": 11,
   "id": "43ea88e3-bac9-46c8-8d98-628ede53bbd9",
   "metadata": {},
   "outputs": [],
   "source": [
    "words=[\"eating\",\"eats\",\"eaten\",\"writing\",\"writes\",\"programming\",\"programs\",\"history\",\"finally\",\"finalized\"]\n"
   ]
  },
  {
   "cell_type": "code",
   "execution_count": 15,
   "id": "55ee9f65-4507-46d9-a93c-68ccc1a5ada1",
   "metadata": {},
   "outputs": [
    {
     "name": "stdout",
     "output_type": "stream",
     "text": [
      "eating------->eat\n",
      "eats------->eat\n",
      "eaten------->eat\n",
      "writing------->write\n",
      "writes------->write\n",
      "programming------->program\n",
      "programs------->program\n",
      "history------->history\n",
      "finally------->finally\n",
      "finalized------->finalize\n"
     ]
    }
   ],
   "source": [
    "for word in words:\n",
    "    print(word+\"------->\"+lemmatizer.lemmatize(word,pos='v'))"
   ]
  },
  {
   "cell_type": "code",
   "execution_count": 17,
   "id": "902a8820-0064-462c-8814-a2d50671071e",
   "metadata": {},
   "outputs": [
    {
     "data": {
      "text/plain": [
       "'go'"
      ]
     },
     "execution_count": 17,
     "metadata": {},
     "output_type": "execute_result"
    }
   ],
   "source": [
    "lemmatizer.lemmatize(\"goes\",pos='v')"
   ]
  },
  {
   "cell_type": "code",
   "execution_count": 19,
   "id": "35809aa8-3b33-4ae9-a099-81a14ae9adab",
   "metadata": {},
   "outputs": [
    {
     "data": {
      "text/plain": [
       "('fairly', 'sportingly')"
      ]
     },
     "execution_count": 19,
     "metadata": {},
     "output_type": "execute_result"
    }
   ],
   "source": [
    "lemmatizer.lemmatize(\"fairly\",pos='v'),lemmatizer.lemmatize(\"sportingly\")"
   ]
  },
  {
   "cell_type": "markdown",
   "id": "4da2434d-b3b6-49cd-800d-4abf6ce6f98e",
   "metadata": {},
   "source": [
    "- Lemmatization overcomes the limitations of stemming and does not change the meaning of the word\n",
    "- Lemmatization is slower in comparison to Stemming\n",
    "- lemmatization-->'lemma'\n",
    "- Stemming--->'stem words'"
   ]
  },
  {
   "cell_type": "markdown",
   "id": "49ded4fb-0c47-4906-aed6-74e341fe9891",
   "metadata": {},
   "source": [
    "<hr>"
   ]
  }
 ],
 "metadata": {
  "kernelspec": {
   "display_name": "Python 3 (ipykernel)",
   "language": "python",
   "name": "python3"
  },
  "language_info": {
   "codemirror_mode": {
    "name": "ipython",
    "version": 3
   },
   "file_extension": ".py",
   "mimetype": "text/x-python",
   "name": "python",
   "nbconvert_exporter": "python",
   "pygments_lexer": "ipython3",
   "version": "3.12.7"
  }
 },
 "nbformat": 4,
 "nbformat_minor": 5
}
