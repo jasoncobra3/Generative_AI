{
 "cells": [
  {
   "cell_type": "code",
   "execution_count": 1,
   "id": "33efa70b-8070-4bb3-bc14-56f3ff6dc426",
   "metadata": {},
   "outputs": [],
   "source": [
    "import nltk"
   ]
  },
  {
   "cell_type": "markdown",
   "id": "aab335fe-b734-4fc1-ac23-a420862b909b",
   "metadata": {},
   "source": [
    "### Stemming<br>\n",
    "Stemming is the process of reducing a word to its word stem that affixes to suffixes and prefixes or to the roots of words known as a lemma. Stemming is important in natural language understanding (NLU) and natural language processing (NLP)."
   ]
  },
  {
   "cell_type": "code",
   "execution_count": 4,
   "id": "545633fc-d451-4835-a597-66f06bacd13a",
   "metadata": {},
   "outputs": [],
   "source": [
    "## Classification Problem\n",
    "## Comments of product is a positive review or negative review\n",
    "## Reviews----> eating, eat,eaten [going,gone,goes]--->go\n",
    "\n",
    "words=[\"eating\",\"eats\",\"eaten\",\"writing\",\"writes\",\"programming\",\"programs\",\"history\",\"finally\",\"finalized\"]"
   ]
  },
  {
   "cell_type": "markdown",
   "id": "82636e51-0a02-4983-a572-54ea34652cf4",
   "metadata": {},
   "source": [
    "### PorterStemmer"
   ]
  },
  {
   "cell_type": "code",
   "execution_count": 7,
   "id": "c2b72d0e-a7ca-4d0a-9dd3-20e96bf4beca",
   "metadata": {},
   "outputs": [],
   "source": [
    "from nltk.stem import PorterStemmer"
   ]
  },
  {
   "cell_type": "code",
   "execution_count": 9,
   "id": "0ec097e2-bcf8-45f0-a019-6481623869de",
   "metadata": {},
   "outputs": [],
   "source": [
    "stemming=PorterStemmer()"
   ]
  },
  {
   "cell_type": "code",
   "execution_count": 11,
   "id": "ed81288d-fb39-49ee-a2a7-a61347c9ba22",
   "metadata": {},
   "outputs": [
    {
     "name": "stdout",
     "output_type": "stream",
     "text": [
      "eating----->eat\n",
      "eats----->eat\n",
      "eaten----->eaten\n",
      "writing----->write\n",
      "writes----->write\n",
      "programming----->program\n",
      "programs----->program\n",
      "history----->histori\n",
      "finally----->final\n",
      "finalized----->final\n"
     ]
    }
   ],
   "source": [
    "for word in words:\n",
    "    print(word+\"----->\"+stemming.stem(word))"
   ]
  },
  {
   "cell_type": "code",
   "execution_count": 17,
   "id": "a8c81119-7d3d-40d7-a319-c3dc1e01b675",
   "metadata": {},
   "outputs": [
    {
     "data": {
      "text/plain": [
       "'congratul'"
      ]
     },
     "execution_count": 17,
     "metadata": {},
     "output_type": "execute_result"
    }
   ],
   "source": [
    "stemming.stem(\"Congratulations\")  ## Porter stemmer is not that accurate and changes the meaning of word while stemmig"
   ]
  },
  {
   "cell_type": "code",
   "execution_count": 19,
   "id": "3851144a-162e-41fb-81ad-a6079327d837",
   "metadata": {},
   "outputs": [
    {
     "data": {
      "text/plain": [
       "'stem'"
      ]
     },
     "execution_count": 19,
     "metadata": {},
     "output_type": "execute_result"
    }
   ],
   "source": [
    "stemming.stem(\"stem\")"
   ]
  },
  {
   "cell_type": "markdown",
   "id": "7fe49139-2f23-4808-ae2a-09fe964e06ad",
   "metadata": {},
   "source": [
    "### RegexpStemmer class\n",
    "NLTK has RegexpStemmer class with the help of which we can easily implement Regular Expression Stemmer algorithms. It basically takes a single regular expression and removes any prefix or suffix that matches the expression. Let us see an example"
   ]
  },
  {
   "cell_type": "code",
   "execution_count": 22,
   "id": "857afcb0-630c-4ae2-acd7-4a3fba168bc9",
   "metadata": {},
   "outputs": [],
   "source": [
    "from nltk.stem import RegexpStemmer"
   ]
  },
  {
   "cell_type": "code",
   "execution_count": 28,
   "id": "5d495002-422e-4ea6-8d52-24cf63c2558b",
   "metadata": {},
   "outputs": [],
   "source": [
    "reg_stemmer=RegexpStemmer('ing$|s$|e$|able$', min=4)"
   ]
  },
  {
   "cell_type": "code",
   "execution_count": 30,
   "id": "2e7002d3-7650-41c3-a90f-e690dd4eb0b3",
   "metadata": {},
   "outputs": [
    {
     "data": {
      "text/plain": [
       "'eat'"
      ]
     },
     "execution_count": 30,
     "metadata": {},
     "output_type": "execute_result"
    }
   ],
   "source": [
    "reg_stemmer.stem(\"eating\")"
   ]
  },
  {
   "cell_type": "code",
   "execution_count": 32,
   "id": "aab82799-49d0-4e63-b2d8-59aeee0db7dd",
   "metadata": {},
   "outputs": [
    {
     "data": {
      "text/plain": [
       "'ingeat'"
      ]
     },
     "execution_count": 32,
     "metadata": {},
     "output_type": "execute_result"
    }
   ],
   "source": [
    "reg_stemmer.stem(\"ingeating\")"
   ]
  },
  {
   "cell_type": "markdown",
   "id": "0a55a384-5d1e-4f02-9b76-cb7baf8b4897",
   "metadata": {},
   "source": [
    "### Snowball Stemmer\n",
    "It is a stemming algorithm which is also known as the Porter2 stemming algorithm as it is a better version of the Porter Stemmer since some issues of it were fixed in this stemmer."
   ]
  },
  {
   "cell_type": "code",
   "execution_count": 35,
   "id": "afaed265-801b-45a9-8903-d6960d4949cc",
   "metadata": {},
   "outputs": [],
   "source": [
    "from nltk.stem import SnowballStemmer"
   ]
  },
  {
   "cell_type": "code",
   "execution_count": 39,
   "id": "6f1d692a-bdfa-42e3-b1da-02f70cc1c1a1",
   "metadata": {},
   "outputs": [],
   "source": [
    "snowballsstemmer=SnowballStemmer('english')"
   ]
  },
  {
   "cell_type": "code",
   "execution_count": 41,
   "id": "a86c4810-b79a-4779-a08e-20e896fa0d56",
   "metadata": {},
   "outputs": [
    {
     "name": "stdout",
     "output_type": "stream",
     "text": [
      "eating------->eat\n",
      "eats------->eat\n",
      "eaten------->eaten\n",
      "writing------->write\n",
      "writes------->write\n",
      "programming------->program\n",
      "programs------->program\n",
      "history------->histori\n",
      "finally------->final\n",
      "finalized------->final\n"
     ]
    }
   ],
   "source": [
    "for word in words:\n",
    "    print(word+\"------->\"+snowballsstemmer.stem(word))"
   ]
  },
  {
   "cell_type": "code",
   "execution_count": 43,
   "id": "b6607521-01b0-4b60-9690-6e0dfa839f60",
   "metadata": {},
   "outputs": [
    {
     "data": {
      "text/plain": [
       "('fairli', 'sportingli')"
      ]
     },
     "execution_count": 43,
     "metadata": {},
     "output_type": "execute_result"
    }
   ],
   "source": [
    "stemming.stem(\"fairly\"),stemming.stem(\"sportingly\")"
   ]
  },
  {
   "cell_type": "code",
   "execution_count": 45,
   "id": "1b47ad08-90e0-4a67-b6f3-dd5b7a1f5f05",
   "metadata": {},
   "outputs": [
    {
     "data": {
      "text/plain": [
       "('fair', 'sportingli')"
      ]
     },
     "execution_count": 45,
     "metadata": {},
     "output_type": "execute_result"
    }
   ],
   "source": [
    "snowballsstemmer.stem(\"fairly\"),stemming.stem(\"sportingly\")  ## you can ee that snowball_stemmer is more accurate that porter_stemmer and gives meaningful stem word"
   ]
  },
  {
   "cell_type": "code",
   "execution_count": 47,
   "id": "f45bd0b5-a3d1-43f6-8dd5-9bea52954737",
   "metadata": {},
   "outputs": [
    {
     "data": {
      "text/plain": [
       "'goe'"
      ]
     },
     "execution_count": 47,
     "metadata": {},
     "output_type": "execute_result"
    }
   ],
   "source": [
    "snowballsstemmer.stem(\"goes\")"
   ]
  },
  {
   "cell_type": "code",
   "execution_count": 49,
   "id": "954d8c80-3889-4d4a-ab50-c535cfe3565d",
   "metadata": {},
   "outputs": [
    {
     "data": {
      "text/plain": [
       "'goe'"
      ]
     },
     "execution_count": 49,
     "metadata": {},
     "output_type": "execute_result"
    }
   ],
   "source": [
    "stemming.stem(\"goes\")"
   ]
  },
  {
   "cell_type": "markdown",
   "id": "1628325f-a1d7-4599-b4b5-eb7a9747dee1",
   "metadata": {},
   "source": [
    "As you can see that Stemming have limitations as it would not able to generate some of the root word  with proper form and may losses the actual meaning of the word . Hence to overcome these limitations lemmatization is used for more accuracy .\n",
    "Stemming is not efficient technique for preprocessing of the text , as it cannot be used in NLP applications like chatbot etc.\n",
    "Sometimes entire meaning of the word is changed in stemming"
   ]
  },
  {
   "cell_type": "markdown",
   "id": "39b5e96f-ff4a-48b2-8f3b-a2f9404ed4ab",
   "metadata": {},
   "source": [
    "<hr>"
   ]
  }
 ],
 "metadata": {
  "kernelspec": {
   "display_name": "Python 3 (ipykernel)",
   "language": "python",
   "name": "python3"
  },
  "language_info": {
   "codemirror_mode": {
    "name": "ipython",
    "version": 3
   },
   "file_extension": ".py",
   "mimetype": "text/x-python",
   "name": "python",
   "nbconvert_exporter": "python",
   "pygments_lexer": "ipython3",
   "version": "3.12.7"
  }
 },
 "nbformat": 4,
 "nbformat_minor": 5
}
