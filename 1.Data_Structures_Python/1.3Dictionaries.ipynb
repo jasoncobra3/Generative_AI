{
 "cells": [
  {
   "cell_type": "markdown",
   "metadata": {
    "vscode": {
     "languageId": "plaintext"
    }
   },
   "source": [
    " ## Dictionaries in Python"
   ]
  },
  {
   "cell_type": "code",
   "execution_count": 1,
   "metadata": {},
   "outputs": [
    {
     "name": "stdout",
     "output_type": "stream",
     "text": [
      "<class 'dict'>\n"
     ]
    }
   ],
   "source": [
    "#creating a Dictionary\n",
    "\n",
    "na={}\n",
    "print(type(na))"
   ]
  },
  {
   "cell_type": "code",
   "execution_count": 2,
   "metadata": {},
   "outputs": [
    {
     "name": "stdout",
     "output_type": "stream",
     "text": [
      "<class 'dict'>\n"
     ]
    }
   ],
   "source": [
    "dic=dict()\n",
    "print(type(dic))"
   ]
  },
  {
   "cell_type": "code",
   "execution_count": 3,
   "metadata": {},
   "outputs": [
    {
     "name": "stdout",
     "output_type": "stream",
     "text": [
      "{'name': 'Aniket', 'age': 35, 'grade': 50}\n"
     ]
    }
   ],
   "source": [
    "info={\"name\":\"Aniket\",\"age\":35,\"grade\":50}\n",
    "print(info)"
   ]
  },
  {
   "cell_type": "code",
   "execution_count": 4,
   "metadata": {},
   "outputs": [
    {
     "name": "stdout",
     "output_type": "stream",
     "text": [
      "{'name': 50, 'age': 35}\n"
     ]
    }
   ],
   "source": [
    "#Single key is always used\n",
    "info={\"name\":\"Aniket\",\"age\":35,\"name\":50}\n",
    "print(info)"
   ]
  },
  {
   "cell_type": "code",
   "execution_count": 5,
   "metadata": {},
   "outputs": [
    {
     "name": "stdout",
     "output_type": "stream",
     "text": [
      "{'name': 'Aniket', 'age': 35, 'grade': 'A'}\n"
     ]
    }
   ],
   "source": [
    "#3 Accesing Dictionary element\n",
    "Student={\"name\":\"Aniket\",\"age\":35,\"grade\":\"A\"}\n",
    "print(Student)"
   ]
  },
  {
   "cell_type": "code",
   "execution_count": 8,
   "metadata": {},
   "outputs": [
    {
     "name": "stdout",
     "output_type": "stream",
     "text": [
      "A\n",
      "Aniket\n",
      "A\n",
      "None\n",
      "Not available\n"
     ]
    }
   ],
   "source": [
    "print(Student[\"grade\"])\n",
    "print(Student[\"name\"])\n",
    "\n",
    "#3Accesing using get() method\n",
    "\n",
    "print(Student.get(\"grade\"))\n",
    "print(Student.get(\"last_name\"))\n",
    "print(Student.get(\"last_name\",\"Not available\"))"
   ]
  },
  {
   "cell_type": "code",
   "execution_count": 9,
   "metadata": {},
   "outputs": [
    {
     "name": "stdout",
     "output_type": "stream",
     "text": [
      "{'name': 'Aniket', 'age': 35, 'grade': 'A'}\n"
     ]
    }
   ],
   "source": [
    "## Modifying dictionary elements\n",
    "## Dictionary are mutable so you can add ,update or delete element\n",
    "print(Student)"
   ]
  },
  {
   "cell_type": "code",
   "execution_count": null,
   "metadata": {},
   "outputs": [
    {
     "name": "stdout",
     "output_type": "stream",
     "text": [
      "{'name': 'Aniket', 'age': 35, 'grade': 'A', 'garde': 'B'}\n",
      "{'name': 'Aniket', 'age': 35, 'grade': 'A', 'garde': 'B', 'Country': 'India'}\n"
     ]
    }
   ],
   "source": [
    "Student[\"garde\"]=\"B\" #Update Key-Value Pair\n",
    "print(Student)\n",
    "Student[\"Country\"]=\"India\" # Added a new key value pair in the dictionary\n",
    "print(Student)"
   ]
  },
  {
   "cell_type": "code",
   "execution_count": 13,
   "metadata": {},
   "outputs": [
    {
     "name": "stdout",
     "output_type": "stream",
     "text": [
      "{'name': 'Aniket', 'age': 35, 'Country': 'India'}\n",
      "{'name': 'Aditya', 'age': 35, 'Country': 'India'}\n"
     ]
    }
   ],
   "source": [
    "del Student[\"garde\"] # delete a key value pair from the dictionary\n",
    "print(Student)\n",
    "\n",
    "Student[\"name\"]=\"Aditya\"\n",
    "print(Student)"
   ]
  },
  {
   "cell_type": "code",
   "execution_count": 14,
   "metadata": {},
   "outputs": [
    {
     "name": "stdout",
     "output_type": "stream",
     "text": [
      "dict_keys(['name', 'age', 'Country'])\n",
      "dict_values(['Aditya', 35, 'India'])\n",
      "dict_items([('name', 'Aditya'), ('age', 35), ('Country', 'India')])\n"
     ]
    }
   ],
   "source": [
    "## Method in Dictinary\n",
    "\n",
    "keys=Student.keys() #get all keys in Dictionary\n",
    "print(keys)\n",
    "\n",
    "values=Student.values() #get all values in Dictionary\n",
    "print(values)\n",
    "\n",
    "pair=Student.items()  #get all key value pairs\n",
    "print(pair)"
   ]
  },
  {
   "cell_type": "code",
   "execution_count": 15,
   "metadata": {},
   "outputs": [
    {
     "name": "stdout",
     "output_type": "stream",
     "text": [
      "{'name': 'Aditya', 'age': 35, 'Country': 'India'}\n",
      "{'name': 'Aditya', 'age': 35, 'Country': 'India'}\n"
     ]
    }
   ],
   "source": [
    "##Shallow Copy\n",
    "\n",
    "student_copy=Student\n",
    "print(student_copy)\n",
    "print(Student)"
   ]
  },
  {
   "cell_type": "code",
   "execution_count": null,
   "metadata": {},
   "outputs": [
    {
     "name": "stdout",
     "output_type": "stream",
     "text": [
      "{'name': 'Aniket', 'age': 35, 'Country': 'India'}\n",
      "{'name': 'Aniket', 'age': 35, 'Country': 'India'}\n"
     ]
    }
   ],
   "source": [
    "Student[\"name\"]=\"Aniket\"\n",
    "print(student_copy)\n",
    "print(Student)\n",
    "#3Name is alos upadting in copy as we update key value only in original dictionary  "
   ]
  },
  {
   "cell_type": "code",
   "execution_count": 17,
   "metadata": {},
   "outputs": [
    {
     "name": "stdout",
     "output_type": "stream",
     "text": [
      "{'name': 'Aniket', 'age': 35, 'Country': 'India'}\n",
      "{'name': 'Aniket', 'age': 35, 'Country': 'India'}\n"
     ]
    }
   ],
   "source": [
    "student_copy1=Student.copy()   #shallow copy (assign separate memory for copied dictionry)\n",
    "print(Student)\n",
    "print(student_copy1)"
   ]
  },
  {
   "cell_type": "code",
   "execution_count": 18,
   "metadata": {},
   "outputs": [
    {
     "name": "stdout",
     "output_type": "stream",
     "text": [
      "{'name': 'Aniket', 'age': 35, 'Country': 'India'}\n",
      "{'name': 'Aditya', 'age': 35, 'Country': 'India'}\n"
     ]
    }
   ],
   "source": [
    "Student[\"name\"]=\"Aditya\"\n",
    "print(student_copy1)\n",
    "print(Student)"
   ]
  },
  {
   "cell_type": "code",
   "execution_count": 19,
   "metadata": {},
   "outputs": [
    {
     "name": "stdout",
     "output_type": "stream",
     "text": [
      "name\n",
      "age\n",
      "Country\n"
     ]
    }
   ],
   "source": [
    "### Iterating over Dictionary   \n",
    "## you can use to iterate over dictionries , key , values , items\n",
    "\n",
    "\n",
    "## Iterate over keys\n",
    "\n",
    "for key in Student.keys():\n",
    "    print(key)"
   ]
  },
  {
   "cell_type": "code",
   "execution_count": 20,
   "metadata": {},
   "outputs": [
    {
     "name": "stdout",
     "output_type": "stream",
     "text": [
      "Aditya\n",
      "35\n",
      "India\n"
     ]
    }
   ],
   "source": [
    "## Iterate over values\n",
    "for value in Student.values():\n",
    "    print(value)"
   ]
  },
  {
   "cell_type": "code",
   "execution_count": 21,
   "metadata": {},
   "outputs": [
    {
     "name": "stdout",
     "output_type": "stream",
     "text": [
      "name:Aditya\n",
      "age:35\n",
      "Country:India\n"
     ]
    }
   ],
   "source": [
    "#3 Iterate over Items\n",
    "for key , value in Student.items():\n",
    "    print(f\"{key}:{value}\")"
   ]
  },
  {
   "cell_type": "code",
   "execution_count": 24,
   "metadata": {},
   "outputs": [
    {
     "name": "stdout",
     "output_type": "stream",
     "text": [
      "{'student1': {'name': 'Tony', 'Age': 35}, 'student2': {'name': 'Steven', 'Age': 45}}\n"
     ]
    }
   ],
   "source": [
    "## Nested Dictionaries\n",
    "students={\n",
    "    \"student1\":{\"name\":\"Tony\",\"Age\":35},\n",
    "    \"student2\":{\"name\":\"Steven\",\"Age\":45}\n",
    "}\n",
    "print(students)"
   ]
  },
  {
   "cell_type": "code",
   "execution_count": 28,
   "metadata": {},
   "outputs": [
    {
     "name": "stdout",
     "output_type": "stream",
     "text": [
      "Steven\n",
      "45\n"
     ]
    }
   ],
   "source": [
    "## Accesing Nested Dictionary elements\n",
    "print(students[\"student2\"][\"name\"])\n",
    "print(students[\"student2\"][\"Age\"])"
   ]
  },
  {
   "cell_type": "code",
   "execution_count": 29,
   "metadata": {},
   "outputs": [
    {
     "name": "stdout",
     "output_type": "stream",
     "text": [
      "student1:{'name': 'Tony', 'Age': 35}\n",
      "name:Tony\n",
      "Age:35\n",
      "student2:{'name': 'Steven', 'Age': 45}\n",
      "name:Steven\n",
      "Age:45\n"
     ]
    }
   ],
   "source": [
    "# Iterating over nested dictionaries\n",
    "for student_id, student_info in students.items():\n",
    "    print(f\"{student_id}:{student_info}\")\n",
    "    for key, value in student_info.items():\n",
    "        print(f\"{key}:{value}\")"
   ]
  },
  {
   "cell_type": "markdown",
   "metadata": {},
   "source": [
    "## Dictionary Comprehension"
   ]
  },
  {
   "cell_type": "code",
   "execution_count": 30,
   "metadata": {},
   "outputs": [
    {
     "name": "stdout",
     "output_type": "stream",
     "text": [
      "{0: 0, 1: 1, 2: 4, 3: 9, 4: 16}\n"
     ]
    }
   ],
   "source": [
    "sqaures={x:x**2 for x in range (5)}\n",
    "print(sqaures)"
   ]
  },
  {
   "cell_type": "code",
   "execution_count": 31,
   "metadata": {},
   "outputs": [
    {
     "name": "stdout",
     "output_type": "stream",
     "text": [
      "{0: 0, 2: 4, 4: 16, 6: 36, 8: 64}\n"
     ]
    }
   ],
   "source": [
    "##Condition Dictionary Comprehension\n",
    "evens={x:x**2 for x in range (10) if x%2==0}\n",
    "print(evens)"
   ]
  },
  {
   "cell_type": "code",
   "execution_count": 33,
   "metadata": {},
   "outputs": [
    {
     "name": "stdout",
     "output_type": "stream",
     "text": [
      "{1: 1, 2: 3, 3: 1, 4: 3, 5: 3}\n"
     ]
    }
   ],
   "source": [
    "## Count the number of frequency using dictionary\n",
    "\n",
    "numbers=[1,2,2,2,3,4,5,5,5,4,4]\n",
    "frequency={}\n",
    "for number in numbers:\n",
    "    if number in frequency:\n",
    "        frequency[number]+=1\n",
    "    else:\n",
    "        frequency[number]=1\n",
    "        \n",
    "print(frequency)"
   ]
  },
  {
   "cell_type": "code",
   "execution_count": 34,
   "metadata": {},
   "outputs": [
    {
     "name": "stdout",
     "output_type": "stream",
     "text": [
      "{'a': 1, 'b': 2, 'c': 3, 'd': 5}\n"
     ]
    }
   ],
   "source": [
    "## Merge 2 Dictionaries into one\n",
    "\n",
    "dict1={\"a\":1 ,\"b\":2}\n",
    "dict2={\"c\":3,\"d\":5}\n",
    "\n",
    "merged_dict={**dict1 , **dict2}\n",
    "print(merged_dict)"
   ]
  },
  {
   "cell_type": "markdown",
   "metadata": {},
   "source": [
    "<hr>"
   ]
  }
 ],
 "metadata": {
  "kernelspec": {
   "display_name": "myenv",
   "language": "python",
   "name": "python3"
  },
  "language_info": {
   "codemirror_mode": {
    "name": "ipython",
    "version": 3
   },
   "file_extension": ".py",
   "mimetype": "text/x-python",
   "name": "python",
   "nbconvert_exporter": "python",
   "pygments_lexer": "ipython3",
   "version": "3.9.20"
  }
 },
 "nbformat": 4,
 "nbformat_minor": 2
}
