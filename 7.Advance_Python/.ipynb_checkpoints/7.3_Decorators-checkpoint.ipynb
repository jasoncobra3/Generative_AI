{
 "cells": [
  {
   "cell_type": "markdown",
   "id": "1a663606-a439-4891-b3fc-f92bb2d7155d",
   "metadata": {},
   "source": [
    "### Decorators\n",
    "Decorators are a powerful and flexible feature in Python that allows you to modify the behavior of a function or class method. They are commonly used to add functionality to functions or methods without modifying their actual code. This lesson covers the basics of decorators, including how to create and use them<br>\n",
    "- A decorator is a function that wraps another function to modify or enhance its behavior without changing the original function’s code.\n",
    "- Think of it as adding extra functionality (like toppings on pizza 🍕) to an existing function"
   ]
  },
  {
   "cell_type": "code",
   "execution_count": 2,
   "id": "31e7828f-0a9f-4bc4-97ab-3181e16e4981",
   "metadata": {},
   "outputs": [],
   "source": [
    "## Function copy\n",
    "## Closures\n",
    "## Decorators\n"
   ]
  },
  {
   "cell_type": "code",
   "execution_count": 10,
   "id": "37ee4c90-0d0b-4830-813c-1a9a91c30d12",
   "metadata": {},
   "outputs": [
    {
     "data": {
      "text/plain": [
       "'Welcome to the adnvaced Python course'"
      ]
     },
     "execution_count": 10,
     "metadata": {},
     "output_type": "execute_result"
    }
   ],
   "source": [
    "## Function copy\n",
    "def welcome():\n",
    "    return \"Welcome to the adnvaced Python course\"\n",
    "\n",
    "welcome()"
   ]
  },
  {
   "cell_type": "code",
   "execution_count": 12,
   "id": "eada3f34-f578-4588-b9d4-ac690fbe8c8a",
   "metadata": {},
   "outputs": [
    {
     "name": "stdout",
     "output_type": "stream",
     "text": [
      "Welcome to the adnvaced Python course\n",
      "Welcome to the adnvaced Python course\n"
     ]
    }
   ],
   "source": [
    "wel=welcome\n",
    "print(wel())\n",
    "del welcome\n",
    "print(wel())"
   ]
  },
  {
   "cell_type": "code",
   "execution_count": 16,
   "id": "376b20d6-0c51-464c-b779-2efa1553842c",
   "metadata": {},
   "outputs": [],
   "source": [
    "## Closure functions  -> functions inside the function\n",
    "\n",
    "def main_welcome(msg):   ## main method\n",
    "\n",
    "    def sub_welcome_method():  ## sub-method in main method\n",
    "        print(\"Hello everyone..!\")\n",
    "        print(msg)\n",
    "        print(\"Please learn these concept properly\")\n",
    "    return sub_welcome_method()"
   ]
  },
  {
   "cell_type": "code",
   "execution_count": 18,
   "id": "e0c30b89-8fa5-4016-84a2-9f7ede3fda55",
   "metadata": {},
   "outputs": [
    {
     "name": "stdout",
     "output_type": "stream",
     "text": [
      "Hello everyone..!\n",
      "This is Advanced python\n",
      "Please learn these concept properly\n"
     ]
    }
   ],
   "source": [
    "main_welcome(\"This is Advanced python\")"
   ]
  },
  {
   "cell_type": "code",
   "execution_count": 20,
   "id": "0960b85c-fe92-4a0e-9b14-8d2fd102316b",
   "metadata": {},
   "outputs": [],
   "source": [
    "## Passing function as parameter to other function\n",
    "\n",
    "def main_welcome(func):   ## main method\n",
    "\n",
    "    def sub_welcome_method():  ## sub-method in main method\n",
    "        print(\"Hello everyone..!\")\n",
    "        func(\"This is function passing as parameter to other function\")\n",
    "        print(\"Please learn these concept properly\")\n",
    "    return sub_welcome_method()"
   ]
  },
  {
   "cell_type": "code",
   "execution_count": 22,
   "id": "8d749b36-4c38-4889-afcc-14edc4bbcb42",
   "metadata": {},
   "outputs": [
    {
     "name": "stdout",
     "output_type": "stream",
     "text": [
      "Hello everyone..!\n",
      "This is function passing as parameter to other function\n",
      "Please learn these concept properly\n"
     ]
    }
   ],
   "source": [
    "main_welcome(print)"
   ]
  },
  {
   "cell_type": "code",
   "execution_count": 28,
   "id": "36455335-b08c-409a-8aa8-0facebcf73ce",
   "metadata": {},
   "outputs": [],
   "source": [
    "def main_welcome(func,lst):   ## main method\n",
    "\n",
    "    def sub_welcome_method():  ## sub-method in main method\n",
    "        print(\"Hello everyone..!\")\n",
    "        print(func(lst))\n",
    "        print(\"Please learn these concept properly\")\n",
    "    return sub_welcome_method()"
   ]
  },
  {
   "cell_type": "code",
   "execution_count": 30,
   "id": "1c4e856b-844e-425a-9946-b27572b6e061",
   "metadata": {},
   "outputs": [
    {
     "name": "stdout",
     "output_type": "stream",
     "text": [
      "Hello everyone..!\n",
      "6\n",
      "Please learn these concept properly\n"
     ]
    }
   ],
   "source": [
    "main_welcome(len,[1,2,3,4,5,6])"
   ]
  },
  {
   "cell_type": "code",
   "execution_count": 67,
   "id": "bf9b8aef-9933-4fe8-aa94-f5adb594b7eb",
   "metadata": {},
   "outputs": [],
   "source": [
    "#### Decorator (Manually applying a Decorator)\n",
    "def main_welcome(func):   ## main method\n",
    "\n",
    "    def sub_welcome_method():  ## sub-method in main method\n",
    "        print(\"Hello everyone..!\")\n",
    "        func()\n",
    "        print(\"Please learn these concept properly\")\n",
    "    return sub_welcome_method()"
   ]
  },
  {
   "cell_type": "code",
   "execution_count": 40,
   "id": "6d51067f-4a17-4e48-bc97-43d085269463",
   "metadata": {},
   "outputs": [
    {
     "name": "stdout",
     "output_type": "stream",
     "text": [
      "This is Gen AI course\n"
     ]
    }
   ],
   "source": [
    "def course_intro():\n",
    "    print(\"This is Gen AI course\")\n",
    "course_intro()"
   ]
  },
  {
   "cell_type": "code",
   "execution_count": 42,
   "id": "d2d393b5-8211-482a-b185-dd7e4760b263",
   "metadata": {},
   "outputs": [
    {
     "name": "stdout",
     "output_type": "stream",
     "text": [
      "Hello everyone..!\n",
      "This is Gen AI course\n",
      "Please learn these concept properly\n"
     ]
    }
   ],
   "source": [
    "main_welcome(course_intro)"
   ]
  },
  {
   "cell_type": "code",
   "execution_count": 44,
   "id": "1d083d18-3c6e-4373-8e43-78a8b5f34c29",
   "metadata": {},
   "outputs": [
    {
     "name": "stdout",
     "output_type": "stream",
     "text": [
      "Hello everyone..!\n",
      "This is Gen AI course\n",
      "Please learn these concept properly\n"
     ]
    }
   ],
   "source": [
    "@main_welcome    ## Defining Decorator by using '@' symbol \n",
    "def course_intro():\n",
    "    print(\"This is Gen AI course\")"
   ]
  },
  {
   "cell_type": "code",
   "execution_count": 46,
   "id": "60c7c8ee-d256-4843-9ab9-a7bef533f166",
   "metadata": {},
   "outputs": [],
   "source": [
    "## Decorator\n",
    "\n",
    "def my_decorator(func):\n",
    "    def wrapper():\n",
    "        print(\"Something is happening before the function is called.\")\n",
    "        func()\n",
    "        print(\"Something is happening after the function is called.\")\n",
    "    return wrapper"
   ]
  },
  {
   "cell_type": "code",
   "execution_count": 52,
   "id": "9f7a75a0-1494-4048-afb3-ea3046c113c8",
   "metadata": {},
   "outputs": [
    {
     "name": "stdout",
     "output_type": "stream",
     "text": [
      "Something is happening before the function is called.\n",
      "Helloo...!\n",
      "Something is happening after the function is called.\n"
     ]
    }
   ],
   "source": [
    "@my_decorator\n",
    "def say_hello():\n",
    "    print(\"Helloo...!\")\n",
    "\n",
    "say_hello()"
   ]
  },
  {
   "cell_type": "code",
   "execution_count": 54,
   "id": "7fce5f30-d227-498d-9efe-22380a483cf2",
   "metadata": {},
   "outputs": [],
   "source": [
    "## Decorator with arguments\n",
    "\n",
    "def repeat(n):\n",
    "    def decorator(func):\n",
    "        def wrapper(*args, **kwargs):\n",
    "            for _ in range(n):\n",
    "                func(*args,**kwargs)\n",
    "        return wrapper\n",
    "    return decorator"
   ]
  },
  {
   "cell_type": "code",
   "execution_count": 56,
   "id": "06ce873f-312e-4548-8e67-5ef4e3fec80a",
   "metadata": {},
   "outputs": [],
   "source": [
    "@repeat(3)\n",
    "def say_hello():\n",
    "    print(\"Helloo...!\")"
   ]
  },
  {
   "cell_type": "code",
   "execution_count": 58,
   "id": "4f73d161-7688-426f-b6bc-0510c413bbda",
   "metadata": {},
   "outputs": [
    {
     "name": "stdout",
     "output_type": "stream",
     "text": [
      "Helloo...!\n",
      "Helloo...!\n",
      "Helloo...!\n"
     ]
    }
   ],
   "source": [
    "say_hello()"
   ]
  },
  {
   "cell_type": "markdown",
   "id": "15104ab5-cca8-4047-ac29-ed4476f58aa2",
   "metadata": {},
   "source": [
    "**Conclusion**<br>\n",
    "Decorators are a powerful tool in Python for extending and modifying the behavior of functions and methods. They provide a clean and readable way to add functionality such as logging, timing, access control, and more without changing the original code. Understanding and using decorators effectively can significantly enhance your Python programming skills."
   ]
  },
  {
   "cell_type": "markdown",
   "id": "b9cf1439-7e3d-4466-8693-95b2f2a7b4bd",
   "metadata": {},
   "source": [
    "*Use Cases for Decorators*<br>\n",
    "1. Logging: Automatically log function calls.\n",
    "2. Authentication: Check user permissions before running a function.\n",
    "3. Timing: Measure how long a function takes to execute.\n",
    "4. Caching: Save results of expensive computations."
   ]
  },
  {
   "cell_type": "markdown",
   "id": "3d986e47-acb3-4fd2-8da5-f02b8065e9a4",
   "metadata": {},
   "source": [
    "<hr>"
   ]
  }
 ],
 "metadata": {
  "kernelspec": {
   "display_name": "Python (myenv)",
   "language": "python",
   "name": "myenv"
  },
  "language_info": {
   "codemirror_mode": {
    "name": "ipython",
    "version": 3
   },
   "file_extension": ".py",
   "mimetype": "text/x-python",
   "name": "python",
   "nbconvert_exporter": "python",
   "pygments_lexer": "ipython3",
   "version": "3.9.20"
  }
 },
 "nbformat": 4,
 "nbformat_minor": 5
}
